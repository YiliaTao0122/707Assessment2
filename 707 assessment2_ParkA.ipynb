{
 "cells": [
  {
   "cell_type": "code",
   "execution_count": 4,
   "metadata": {
    "colab": {
     "base_uri": "https://localhost:8080/"
    },
    "executionInfo": {
     "elapsed": 57224,
     "status": "ok",
     "timestamp": 1721015628870,
     "user": {
      "displayName": "Yilia Tao",
      "userId": "06222049423707284834"
     },
     "user_tz": -720
    },
    "id": "RB7r7GhL5QlZ",
    "outputId": "4200c55b-c374-415a-d7bf-4b2737bf8e6d"
   },
   "outputs": [],
   "source": [
    "# pip install pyspark"
   ]
  },
  {
   "cell_type": "code",
   "execution_count": 5,
   "metadata": {
    "executionInfo": {
     "elapsed": 9,
     "status": "ok",
     "timestamp": 1721015628870,
     "user": {
      "displayName": "Yilia Tao",
      "userId": "06222049423707284834"
     },
     "user_tz": -720
    },
    "id": "N0FLyZNN5Mik"
   },
   "outputs": [],
   "source": [
    "# Import necessary PySpark libraries\n",
    "from pyspark.sql import SparkSession\n",
    "from pyspark.sql.functions import col, when\n",
    "from pyspark.sql.types import StringType\n",
    "from pyspark.sql.types import TimestampType\n",
    "from pyspark.sql import functions as F\n",
    "from pyspark.sql.functions import to_timestamp\n"
   ]
  },
  {
   "cell_type": "code",
   "execution_count": 6,
   "metadata": {
    "colab": {
     "base_uri": "https://localhost:8080/"
    },
    "executionInfo": {
     "elapsed": 15609,
     "status": "ok",
     "timestamp": 1721015644471,
     "user": {
      "displayName": "Yilia Tao",
      "userId": "06222049423707284834"
     },
     "user_tz": -720
    },
    "id": "9wdK4ThC_V-o",
    "outputId": "9a8289c2-1d70-4f70-a41c-0a32a68714ca"
   },
   "outputs": [
    {
     "name": "stderr",
     "output_type": "stream",
     "text": [
      "24/08/01 21:25:45 WARN Utils: Your hostname, YiliadeMacBook-Pro.local resolves to a loopback address: 127.0.0.1; using 192.168.20.8 instead (on interface en0)\n",
      "24/08/01 21:25:45 WARN Utils: Set SPARK_LOCAL_IP if you need to bind to another address\n",
      "Setting default log level to \"WARN\".\n",
      "To adjust logging level use sc.setLogLevel(newLevel). For SparkR, use setLogLevel(newLevel).\n",
      "24/08/01 21:25:46 WARN NativeCodeLoader: Unable to load native-hadoop library for your platform... using builtin-java classes where applicable\n"
     ]
    },
    {
     "name": "stdout",
     "output_type": "stream",
     "text": [
      "<pyspark.sql.session.SparkSession object at 0x1324a3440>\n",
      "Application ID: local-1722504346676\n",
      "Application Name: 707 Assessment2 ETL\n"
     ]
    }
   ],
   "source": [
    "# Initialize Spark session\n",
    "spark = SparkSession.builder \\\n",
    "    .appName(\"707 Assessment2 ETL\") \\\n",
    "    .getOrCreate()\n",
    "\n",
    "# Check Spark session\n",
    "print(spark)\n",
    "\n",
    "# Print the application ID and name\n",
    "print(f\"Application ID: {spark.sparkContext.applicationId}\")\n",
    "print(f\"Application Name: {spark.sparkContext.appName}\")"
   ]
  },
  {
   "cell_type": "code",
   "execution_count": 7,
   "metadata": {
    "colab": {
     "base_uri": "https://localhost:8080/"
    },
    "executionInfo": {
     "elapsed": 22020,
     "status": "ok",
     "timestamp": 1721015666488,
     "user": {
      "displayName": "Yilia Tao",
      "userId": "06222049423707284834"
     },
     "user_tz": -720
    },
    "id": "A6lq3WMNEVPM",
    "outputId": "ffd24405-687d-444c-f509-0373f6c7211b"
   },
   "outputs": [
    {
     "name": "stdout",
     "output_type": "stream",
     "text": [
      "+--------------------+------------+-----------------+--------------------+--------------------+--------------------+----------------+-----------------+----------------+--------------------+-------------+----------------+----------+-----------------------+-------------------+\n",
      "|           Unique id|channel_name|         category|        Sub-category|    Customer Remarks|            Order_id| order_date_time|Issue_reported at| issue_responded|Survey_response_Date|Customer_City|Product_category|Item_price|connected_handling_time|         Agent_name|\n",
      "+--------------------+------------+-----------------+--------------------+--------------------+--------------------+----------------+-----------------+----------------+--------------------+-------------+----------------+----------+-----------------------+-------------------+\n",
      "|7e9ae164-6a8b-452...|     Outcall|  Product Queries|      Life Insurance|                NULL|c27c9bb4-fa36-414...|            NULL| 01/08/2023 11:13|01/08/2023 11:47|           01-Aug-23|         NULL|            NULL|      NULL|                   NULL|   Richard Buchanan|\n",
      "|b07ec1b0-f376-43b...|     Outcall|  Product Queries|Product Specific ...|                NULL|d406b0c7-ce17-465...|            NULL| 01/08/2023 12:52|01/08/2023 12:54|           01-Aug-23|         NULL|            NULL|      NULL|                   NULL|      Vicki Collins|\n",
      "|200814dd-27c7-414...|     Inbound|    Order Related|   Installation/demo|                NULL|c273368d-b961-44c...|            NULL| 01/08/2023 20:16|01/08/2023 20:38|           01-Aug-23|         NULL|            NULL|      NULL|                   NULL|       Duane Norman|\n",
      "|eb0d3e53-c1ca-42d...|     Inbound|          Returns|Reverse Pickup En...|                NULL|5aed0059-55a4-4ec...|            NULL| 01/08/2023 20:56|01/08/2023 21:16|           01-Aug-23|         NULL|            NULL|      NULL|                   NULL|     Patrick Flores|\n",
      "|ba903143-1e54-406...|     Inbound|     Cancellation|          Not Needed|                NULL|e8bed5a9-6933-4af...|            NULL| 01/08/2023 10:30|01/08/2023 10:32|           01-Aug-23|         NULL|            NULL|      NULL|                   NULL|Christopher Sanchez|\n",
      "|1cfde5b9-6112-44f...|       Email|          Returns|     Fraudulent User|                NULL|a2938961-2833-45f...|            NULL| 01/08/2023 15:13|01/08/2023 18:39|           01-Aug-23|         NULL|            NULL|      NULL|                   NULL|     Desiree Newton|\n",
      "|11a3ffd8-1d6b-480...|     Outcall|  Product Queries|Product Specific ...|                NULL|bfcb562b-9a2f-4cc...|            NULL| 01/08/2023 15:31|01/08/2023 23:52|           01-Aug-23|         NULL|            NULL|      NULL|                   NULL|      Shannon Hicks|\n",
      "|372b51a5-fa19-4a3...|     Inbound|          Returns|Exchange / Replac...|           Very good|88537e0b-5ffa-43f...|            NULL| 01/08/2023 16:17|01/08/2023 16:23|           01-Aug-23|         NULL|            NULL|      NULL|                   NULL|        Laura Smith|\n",
      "|6e4413db-4e16-42f...|     Inbound|          Returns|             Missing|Shopzilla app and...|e6be9713-13c3-493...|            NULL| 01/08/2023 21:03|01/08/2023 21:07|           01-Aug-23|         NULL|            NULL|      NULL|                   NULL|        David Smith|\n",
      "|b0a65350-64a5-460...|     Inbound|Shopzilla Related|     General Enquiry|                NULL|c7caa804-2525-499...|            NULL| 01/08/2023 23:31|01/08/2023 23:36|           01-Aug-23|         NULL|            NULL|      NULL|                   NULL|      Tabitha Ayala|\n",
      "|74a2cbbf-497e-417...|     Outcall|          Returns|      Return request|                NULL|5862d1a1-2081-4e2...|            NULL| 02/08/2023 18:14|02/08/2023 18:16|           02-Aug-23|         NULL|            NULL|      NULL|                   NULL|       Carla Morgan|\n",
      "|4c28acf4-2ea4-4be...|     Inbound|    Order Related|             Delayed|            Very bad|55bbace3-eb2e-4f6...|19/07/2023 23:50| 02/08/2023 10:44|02/08/2023 11:14|           02-Aug-23|       NAGPUR|       LifeStyle|       434|                   NULL|      Stanley Hogan|\n",
      "|e7ec72bb-65e9-446...|     Inbound|Shopzilla Related|     General Enquiry|                NULL|c7d5eef8-d239-474...|            NULL| 01/08/2023 10:09|01/08/2023 10:12|           01-Aug-23|         NULL|            NULL|      NULL|                   NULL|      Timothy Scott|\n",
      "|68c596f2-4130-42f...|     Inbound|Shopzilla Related|     General Enquiry|                NULL|c1e10375-7426-4b2...|            NULL| 01/08/2023 10:15|01/08/2023 11:21|           01-Aug-23|         NULL|            NULL|      NULL|                   NULL|      Shannon Hicks|\n",
      "|6b966653-0900-4d5...|     Inbound|          Returns|Reverse Pickup En...|                NULL|9e0d7d55-d012-42f...|            NULL| 02/08/2023 11:26|02/08/2023 11:44|           02-Aug-23|         NULL|            NULL|      NULL|                   NULL|        Mark Wilson|\n",
      "|130dfefe-1d77-47f...|     Inbound|          Returns|             Missing|                NULL|8153c646-4940-406...|            NULL| 02/08/2023 19:56|02/08/2023 20:06|           02-Aug-23|         NULL|            NULL|      NULL|                   NULL|         Mark Black|\n",
      "|4cc4df74-fcd3-413...|     Inbound|          Returns|Service Centres R...|                NULL|4245d6df-49c6-491...|06/05/2023 21:41|  01/08/2023 9:01| 01/08/2023 9:03|           01-Aug-23|       RANCHI|     Electronics|      1299|                   NULL|         Amy Mendez|\n",
      "|c54459b3-ffb3-4ff...|     Inbound|    Order Related|   Installation/demo|          Something |0cdaa1f1-02f2-40e...|            NULL| 01/08/2023 10:00|01/08/2023 10:04|           01-Aug-23|         NULL|            NULL|      NULL|                   NULL|       Jennifer May|\n",
      "|deccfb1d-05d4-40b...|     Inbound|     Cancellation|          Not Needed|                NULL|3f16b782-27cf-483...|            NULL| 01/08/2023 21:05|01/08/2023 21:07|           01-Aug-23|         NULL|            NULL|      NULL|                   NULL|      Ryan Thompson|\n",
      "|6e51734e-9627-4a1...|     Inbound|    Order Related|   Installation/demo|            All good|8a1ae638-4d8c-4a5...|18/07/2023 12:20| 02/08/2023 20:03|02/08/2023 20:05|           02-Aug-23|       NAGPUR|     Electronics|     15990|                   NULL|       David Butler|\n",
      "+--------------------+------------+-----------------+--------------------+--------------------+--------------------+----------------+-----------------+----------------+--------------------+-------------+----------------+----------+-----------------------+-------------------+\n",
      "only showing top 20 rows\n",
      "\n",
      "+-------------------+--------------+---------------+---------------+-----------+----------+\n",
      "|         Agent_name|    Supervisor|        Manager|  Tenure Bucket|Agent Shift|CSAT Score|\n",
      "+-------------------+--------------+---------------+---------------+-----------+----------+\n",
      "|   Richard Buchanan|   Mason Gupta|Jennifer Nguyen|On Job Training|    Morning|         5|\n",
      "|      Vicki Collins|     Dylan Kim|    Michael Lee|            >90|    Morning|         5|\n",
      "|       Duane Norman|  Jackson Park|    William Kim|On Job Training|    Evening|         5|\n",
      "|     Patrick Flores|   Olivia Wang|     John Smith|            >90|    Evening|         5|\n",
      "|Christopher Sanchez|Austin Johnson|    Michael Lee|           0-30|    Morning|         5|\n",
      "|     Desiree Newton|     Emma Park|     John Smith|           0-30|    Morning|         5|\n",
      "|      Shannon Hicks|   Aiden Patel|     Olivia Tan|            >90|    Morning|         5|\n",
      "|        Laura Smith| Evelyn Kimura|Jennifer Nguyen|On Job Training|    Evening|         5|\n",
      "|        David Smith|  Nathan Patel|     John Smith|            >90|      Split|         5|\n",
      "|      Tabitha Ayala| Amelia Tanaka|    Michael Lee|          31-60|    Evening|         5|\n",
      "|       Carla Morgan|  Nathan Patel|     Emily Chen|           0-30|    Evening|         4|\n",
      "|      Stanley Hogan|   Harper Wong|     Emily Chen|            >90|      Split|         1|\n",
      "|      Timothy Scott|  Zoe Yamamoto|    William Kim|On Job Training|    Morning|         4|\n",
      "|      Shannon Hicks|   Aiden Patel|     Olivia Tan|            >90|    Morning|         4|\n",
      "|        Mark Wilson| Scarlett Chen|     John Smith|           0-30|    Morning|         5|\n",
      "|         Mark Black|   Sophia Sato|     John Smith|            >90|  Afternoon|         5|\n",
      "|         Amy Mendez|   Sophia Sato|     John Smith|           0-30|    Morning|         5|\n",
      "|       Jennifer May|  Zoe Yamamoto|    William Kim|On Job Training|    Morning|         3|\n",
      "|      Ryan Thompson|   Olivia Wang|     Emily Chen|          31-60|    Evening|         5|\n",
      "|       David Butler|   Olivia Wang|     Emily Chen|          31-60|    Evening|         5|\n",
      "+-------------------+--------------+---------------+---------------+-----------+----------+\n",
      "only showing top 20 rows\n",
      "\n"
     ]
    }
   ],
   "source": [
    "# load data\n",
    "customer_df= spark.read.csv('customer_support.csv',header=True,inferSchema=True)\n",
    "agent_df= spark.read.csv('agent_info.csv',header=True,inferSchema=True)\n",
    "customer_df.show()\n",
    "agent_df.show()"
   ]
  },
  {
   "cell_type": "code",
   "execution_count": 8,
   "metadata": {
    "colab": {
     "base_uri": "https://localhost:8080/"
    },
    "executionInfo": {
     "elapsed": 640,
     "status": "ok",
     "timestamp": 1721015667122,
     "user": {
      "displayName": "Yilia Tao",
      "userId": "06222049423707284834"
     },
     "user_tz": -720
    },
    "id": "iSBd7xAWJRIL",
    "outputId": "2b167c44-f003-4ce6-aa8c-56eb3ec491e7"
   },
   "outputs": [
    {
     "name": "stdout",
     "output_type": "stream",
     "text": [
      "root\n",
      " |-- Unique id: string (nullable = true)\n",
      " |-- channel_name: string (nullable = true)\n",
      " |-- category: string (nullable = true)\n",
      " |-- Sub-category: string (nullable = true)\n",
      " |-- Customer Remarks: string (nullable = true)\n",
      " |-- Order_id: string (nullable = true)\n",
      " |-- order_date_time: string (nullable = true)\n",
      " |-- Issue_reported at: string (nullable = true)\n",
      " |-- issue_responded: string (nullable = true)\n",
      " |-- Survey_response_Date: string (nullable = true)\n",
      " |-- Customer_City: string (nullable = true)\n",
      " |-- Product_category: string (nullable = true)\n",
      " |-- Item_price: string (nullable = true)\n",
      " |-- connected_handling_time: string (nullable = true)\n",
      " |-- Agent_name: string (nullable = true)\n",
      "\n",
      "root\n",
      " |-- Agent_name: string (nullable = true)\n",
      " |-- Supervisor: string (nullable = true)\n",
      " |-- Manager: string (nullable = true)\n",
      " |-- Tenure Bucket: string (nullable = true)\n",
      " |-- Agent Shift: string (nullable = true)\n",
      " |-- CSAT Score: integer (nullable = true)\n",
      "\n"
     ]
    }
   ],
   "source": [
    "customer_df.printSchema()\n",
    "agent_df.printSchema()"
   ]
  },
  {
   "cell_type": "code",
   "execution_count": 9,
   "metadata": {
    "colab": {
     "base_uri": "https://localhost:8080/"
    },
    "executionInfo": {
     "elapsed": 822,
     "status": "ok",
     "timestamp": 1721015667943,
     "user": {
      "displayName": "Yilia Tao",
      "userId": "06222049423707284834"
     },
     "user_tz": -720
    },
    "id": "mZa75-tEW-E8",
    "outputId": "447df884-ee08-40cc-ea50-2adafe136884"
   },
   "outputs": [
    {
     "name": "stdout",
     "output_type": "stream",
     "text": [
      "+-------------------+-------------------+\n",
      "|  Issue_reported at|    issue_responded|\n",
      "+-------------------+-------------------+\n",
      "|2023-08-01 11:13:00|2023-08-01 11:47:00|\n",
      "|2023-08-01 12:52:00|2023-08-01 12:54:00|\n",
      "|2023-08-01 20:16:00|2023-08-01 20:38:00|\n",
      "|2023-08-01 20:56:00|2023-08-01 21:16:00|\n",
      "|2023-08-01 10:30:00|2023-08-01 10:32:00|\n",
      "|2023-08-01 15:13:00|2023-08-01 18:39:00|\n",
      "|2023-08-01 15:31:00|2023-08-01 23:52:00|\n",
      "|2023-08-01 16:17:00|2023-08-01 16:23:00|\n",
      "|2023-08-01 21:03:00|2023-08-01 21:07:00|\n",
      "|2023-08-01 23:31:00|2023-08-01 23:36:00|\n",
      "|2023-08-02 18:14:00|2023-08-02 18:16:00|\n",
      "|2023-08-02 10:44:00|2023-08-02 11:14:00|\n",
      "|2023-08-01 10:09:00|2023-08-01 10:12:00|\n",
      "|2023-08-01 10:15:00|2023-08-01 11:21:00|\n",
      "|2023-08-02 11:26:00|2023-08-02 11:44:00|\n",
      "|2023-08-02 19:56:00|2023-08-02 20:06:00|\n",
      "|2023-08-01 09:01:00|2023-08-01 09:03:00|\n",
      "|2023-08-01 10:00:00|2023-08-01 10:04:00|\n",
      "|2023-08-01 21:05:00|2023-08-01 21:07:00|\n",
      "|2023-08-02 20:03:00|2023-08-02 20:05:00|\n",
      "+-------------------+-------------------+\n",
      "only showing top 20 rows\n",
      "\n"
     ]
    }
   ],
   "source": [
    "# data format\n",
    "spark.conf.set(\"spark.sql.legacy.timeParserPolicy\", \"LEGACY\")\n",
    "customer_df = customer_df.withColumn(\"Issue_reported at\", to_timestamp(col(\"Issue_reported at\"), \"dd/MM/yyyy HH:mm\"))\n",
    "customer_df = customer_df.withColumn(\"issue_responded\", to_timestamp(col(\"issue_responded\"), \"dd/MM/yyyy HH:mm\"))\n",
    "\n",
    "# Display the converted timestamps\n",
    "customer_df.select(\"Issue_reported at\",'issue_responded').show()"
   ]
  },
  {
   "cell_type": "code",
   "execution_count": 10,
   "metadata": {
    "colab": {
     "base_uri": "https://localhost:8080/"
    },
    "executionInfo": {
     "elapsed": 1611,
     "status": "ok",
     "timestamp": 1721015669552,
     "user": {
      "displayName": "Yilia Tao",
      "userId": "06222049423707284834"
     },
     "user_tz": -720
    },
    "id": "WlPFoLcGZXg9",
    "outputId": "1b53c442-fb4c-4ef7-b059-0a2013dbe2cf"
   },
   "outputs": [
    {
     "name": "stdout",
     "output_type": "stream",
     "text": [
      "+-----------------------+\n",
      "|connected_handling_time|\n",
      "+-----------------------+\n",
      "|                   34.0|\n",
      "|                    2.0|\n",
      "|                   22.0|\n",
      "|                   20.0|\n",
      "|                    2.0|\n",
      "|                  206.0|\n",
      "|                  501.0|\n",
      "|                    6.0|\n",
      "|                    4.0|\n",
      "|                    5.0|\n",
      "|                    2.0|\n",
      "|                   30.0|\n",
      "|                    3.0|\n",
      "|                   66.0|\n",
      "|                   18.0|\n",
      "|                   10.0|\n",
      "|                    2.0|\n",
      "|                    4.0|\n",
      "|                    2.0|\n",
      "|                    2.0|\n",
      "+-----------------------+\n",
      "only showing top 20 rows\n",
      "\n"
     ]
    }
   ],
   "source": [
    "# calculate connected_handling_time\n",
    "customer_df = customer_df.withColumn(\n",
    "    \"connected_handling_time\",\n",
    "    (col(\"issue_responded\").cast(\"long\") - col(\"Issue_reported at\").cast(\"long\")))\n",
    "customer_df = customer_df.withColumn(\n",
    "    \"connected_handling_time\",\n",
    "    F.expr(\"connected_handling_time / 60\")) #show in minutes\n",
    "customer_df.select(\"connected_handling_time\").show()"
   ]
  },
  {
   "cell_type": "code",
   "execution_count": 11,
   "metadata": {
    "colab": {
     "base_uri": "https://localhost:8080/"
    },
    "executionInfo": {
     "elapsed": 15428,
     "status": "ok",
     "timestamp": 1721015684977,
     "user": {
      "displayName": "Yilia Tao",
      "userId": "06222049423707284834"
     },
     "user_tz": -720
    },
    "id": "y9BFnj09FQwJ",
    "outputId": "4131ec85-dcf6-42f9-ae2f-fe4233bc48c6"
   },
   "outputs": [
    {
     "name": "stdout",
     "output_type": "stream",
     "text": [
      "['Customer Remarks', 'Order_id', 'order_date_time', 'Issue_reported at', 'issue_responded', 'Survey_response_Date', 'Customer_City', 'Product_category', 'Item_price', 'connected_handling_time', 'Agent_name']\n"
     ]
    }
   ],
   "source": [
    "# data cleaning\n",
    "null_columns = [column for column in customer_df.columns if customer_df.filter(col(column).isNull()).count() > 0]\n",
    "print(null_columns)"
   ]
  },
  {
   "cell_type": "code",
   "execution_count": 12,
   "metadata": {
    "colab": {
     "base_uri": "https://localhost:8080/"
    },
    "executionInfo": {
     "elapsed": 3774,
     "status": "ok",
     "timestamp": 1721015688734,
     "user": {
      "displayName": "Yilia Tao",
      "userId": "06222049423707284834"
     },
     "user_tz": -720
    },
    "id": "LwMxX1lIKlaR",
    "outputId": "ca0e53db-a78d-4156-c296-b8d553542e53"
   },
   "outputs": [
    {
     "name": "stdout",
     "output_type": "stream",
     "text": [
      "[]\n"
     ]
    }
   ],
   "source": [
    "null_columns2 = [column for column in agent_df.columns if agent_df.filter(col(column).isNull()).count() > 0]\n",
    "print(null_columns2)"
   ]
  },
  {
   "cell_type": "code",
   "execution_count": 13,
   "metadata": {
    "colab": {
     "base_uri": "https://localhost:8080/"
    },
    "executionInfo": {
     "elapsed": 1006,
     "status": "ok",
     "timestamp": 1721015689719,
     "user": {
      "displayName": "Yilia Tao",
      "userId": "06222049423707284834"
     },
     "user_tz": -720
    },
    "id": "7YEWlWNYN4QI",
    "outputId": "cccdfd89-2530-46be-e375-f5b94b598a34"
   },
   "outputs": [
    {
     "name": "stdout",
     "output_type": "stream",
     "text": [
      "+--------------------+------------+-----------------+--------------------+--------------------+--------------------+--------------------+-------------------+-------------------+--------------------+----------------+-------------------+----------------+-----------------------+----------+\n",
      "|           Unique id|channel_name|         category|        Sub-category|    Customer Remarks|            Order_id|     order_date_time|  Issue_reported at|    issue_responded|Survey_response_Date|   Customer_City|   Product_category|      Item_price|connected_handling_time|Agent_name|\n",
      "+--------------------+------------+-----------------+--------------------+--------------------+--------------------+--------------------+-------------------+-------------------+--------------------+----------------+-------------------+----------------+-----------------------+----------+\n",
      "|fd7e6d24-aa18-4c0...|     Inbound|          Returns|Reverse Pickup En...|\"The shoe is diff...| now it is not ac...|                NULL|               NULL|2023-08-13 10:54:00|    13/08/2023 22:46|       13-Aug-23|               NULL|            NULL|                   NULL|      NULL|\n",
      "|6efbd5d8-56f3-4ba...|     Inbound|Offers & Cashback|      Other Cashback|\"  product order ...| lights flash hom...| mene vapis call ...|               NULL|               NULL|                NULL|            NULL|   16/08/2023 12:24|16/08/2023 13:31|                   NULL|      NULL|\n",
      "|a90060a1-2533-4c8...|     Inbound|    Order Related|   Installation/demo|\"Most of the time...| ring simply cont...|1541b83c-e6cd-4c8...|2023-08-07 06:16:00|2023-08-15 14:48:00|    16/08/2023 15:43|       16-Aug-23|GAUTAM BUDDHA NAGAR|       Furniture|                12032.0|      NULL|\n",
      "|6753c5c7-a19c-4b2...|     Inbound| Payments related|Payment related Q...|\"In the app/websi...| else I would not...|c5010b47-9451-485...|               NULL|2023-08-17 21:38:00|    17/08/2023 21:41|       17-Aug-23|               NULL|            NULL|                   NULL|      NULL|\n",
      "|a9e22ec8-8fb2-47b...|     Inbound|  Product Queries|Product Specific ...|\"Dear Shopzilla S...|   Pao\\\"\" offer. ...| and I am eager t...|               NULL|               NULL|                NULL|21/08/2023 15:12|   21/08/2023 15:29|       21-Aug-23|                   NULL|      NULL|\n",
      "|d1295cd0-db52-4eb...|     Inbound|    Order Related|             Delayed|\"Similar issues f...| but the problem ...| which is of no r...|               NULL|               NULL|                NULL|20/08/2023 21:01|    21/08/2023 0:07|       21-Aug-23|                   NULL|      NULL|\n",
      "|b17e5731-b66f-425...|     Inbound|          Returns|Reverse Pickup En...|\"Make sure that s...| and the customer...|7a5aadf6-540f-4d8...|               NULL|2023-08-22 13:23:00|    23/08/2023 10:50|       23-Aug-23|               NULL|            NULL|                   NULL|      NULL|\n",
      "|dc877e52-d570-4ed...|     Inbound|    Order Related|Order status enquiry|\"Product is alrea...| she is forwarded...|4e5757b4-33c7-40d...|2023-08-24 00:21:00|2023-08-28 07:57:00|     28/08/2023 0:00|       28-Aug-23|          KANDHAMAL| Home Appliences|                 6216.0|      NULL|\n",
      "|8cac7a4f-bbbd-43d...|     Inbound|          Returns|Reverse Pickup En...|Mera prodect pick...|                NULL|                NULL|               NULL|               NULL|                NULL|            NULL|               NULL|            NULL|                   NULL|      NULL|\n",
      "+--------------------+------------+-----------------+--------------------+--------------------+--------------------+--------------------+-------------------+-------------------+--------------------+----------------+-------------------+----------------+-----------------------+----------+\n",
      "\n"
     ]
    }
   ],
   "source": [
    "missing_agent_name = customer_df.filter(col(\"Agent_name\").isNull())\n",
    "missing_agent_name.show()"
   ]
  },
  {
   "cell_type": "code",
   "execution_count": 14,
   "metadata": {
    "executionInfo": {
     "elapsed": 4,
     "status": "ok",
     "timestamp": 1721015689720,
     "user": {
      "displayName": "Yilia Tao",
      "userId": "06222049423707284834"
     },
     "user_tz": -720
    },
    "id": "vCapniXkOUeH"
   },
   "outputs": [],
   "source": [
    "customer_df = customer_df.filter(col(\"Agent_name\").isNotNull())"
   ]
  },
  {
   "cell_type": "code",
   "execution_count": 15,
   "metadata": {
    "executionInfo": {
     "elapsed": 3,
     "status": "ok",
     "timestamp": 1721015689720,
     "user": {
      "displayName": "Yilia Tao",
      "userId": "06222049423707284834"
     },
     "user_tz": -720
    },
    "id": "QI6M72d8OmYO"
   },
   "outputs": [],
   "source": [
    "columns_to_drop = ['Order_id', 'order_date_time', 'Survey_response_Date', 'Customer_City', 'Product_category', 'Item_price']\n",
    "customer_df = customer_df.drop(*columns_to_drop)\n",
    "customer_df = customer_df.fillna({\"Customer Remarks\": \"No Remarks\"})"
   ]
  },
  {
   "cell_type": "code",
   "execution_count": 16,
   "metadata": {
    "colab": {
     "base_uri": "https://localhost:8080/"
    },
    "executionInfo": {
     "elapsed": 586,
     "status": "ok",
     "timestamp": 1721015690303,
     "user": {
      "displayName": "Yilia Tao",
      "userId": "06222049423707284834"
     },
     "user_tz": -720
    },
    "id": "SKq2y3ckWI5i",
    "outputId": "570e8aa8-d48e-47cf-cd9d-174f2a983148"
   },
   "outputs": [
    {
     "name": "stdout",
     "output_type": "stream",
     "text": [
      "+--------------------+------------+-----------------+--------------------+--------------------+-------------------+-------------------+-----------------------+-------------------+\n",
      "|           Unique id|channel_name|         category|        Sub-category|    Customer Remarks|  Issue_reported at|    issue_responded|connected_handling_time|         Agent_name|\n",
      "+--------------------+------------+-----------------+--------------------+--------------------+-------------------+-------------------+-----------------------+-------------------+\n",
      "|7e9ae164-6a8b-452...|     Outcall|  Product Queries|      Life Insurance|          No Remarks|2023-08-01 11:13:00|2023-08-01 11:47:00|                   34.0|   Richard Buchanan|\n",
      "|b07ec1b0-f376-43b...|     Outcall|  Product Queries|Product Specific ...|          No Remarks|2023-08-01 12:52:00|2023-08-01 12:54:00|                    2.0|      Vicki Collins|\n",
      "|200814dd-27c7-414...|     Inbound|    Order Related|   Installation/demo|          No Remarks|2023-08-01 20:16:00|2023-08-01 20:38:00|                   22.0|       Duane Norman|\n",
      "|eb0d3e53-c1ca-42d...|     Inbound|          Returns|Reverse Pickup En...|          No Remarks|2023-08-01 20:56:00|2023-08-01 21:16:00|                   20.0|     Patrick Flores|\n",
      "|ba903143-1e54-406...|     Inbound|     Cancellation|          Not Needed|          No Remarks|2023-08-01 10:30:00|2023-08-01 10:32:00|                    2.0|Christopher Sanchez|\n",
      "|1cfde5b9-6112-44f...|       Email|          Returns|     Fraudulent User|          No Remarks|2023-08-01 15:13:00|2023-08-01 18:39:00|                  206.0|     Desiree Newton|\n",
      "|11a3ffd8-1d6b-480...|     Outcall|  Product Queries|Product Specific ...|          No Remarks|2023-08-01 15:31:00|2023-08-01 23:52:00|                  501.0|      Shannon Hicks|\n",
      "|372b51a5-fa19-4a3...|     Inbound|          Returns|Exchange / Replac...|           Very good|2023-08-01 16:17:00|2023-08-01 16:23:00|                    6.0|        Laura Smith|\n",
      "|6e4413db-4e16-42f...|     Inbound|          Returns|             Missing|Shopzilla app and...|2023-08-01 21:03:00|2023-08-01 21:07:00|                    4.0|        David Smith|\n",
      "|b0a65350-64a5-460...|     Inbound|Shopzilla Related|     General Enquiry|          No Remarks|2023-08-01 23:31:00|2023-08-01 23:36:00|                    5.0|      Tabitha Ayala|\n",
      "|74a2cbbf-497e-417...|     Outcall|          Returns|      Return request|          No Remarks|2023-08-02 18:14:00|2023-08-02 18:16:00|                    2.0|       Carla Morgan|\n",
      "|4c28acf4-2ea4-4be...|     Inbound|    Order Related|             Delayed|            Very bad|2023-08-02 10:44:00|2023-08-02 11:14:00|                   30.0|      Stanley Hogan|\n",
      "|e7ec72bb-65e9-446...|     Inbound|Shopzilla Related|     General Enquiry|          No Remarks|2023-08-01 10:09:00|2023-08-01 10:12:00|                    3.0|      Timothy Scott|\n",
      "|68c596f2-4130-42f...|     Inbound|Shopzilla Related|     General Enquiry|          No Remarks|2023-08-01 10:15:00|2023-08-01 11:21:00|                   66.0|      Shannon Hicks|\n",
      "|6b966653-0900-4d5...|     Inbound|          Returns|Reverse Pickup En...|          No Remarks|2023-08-02 11:26:00|2023-08-02 11:44:00|                   18.0|        Mark Wilson|\n",
      "|130dfefe-1d77-47f...|     Inbound|          Returns|             Missing|          No Remarks|2023-08-02 19:56:00|2023-08-02 20:06:00|                   10.0|         Mark Black|\n",
      "|4cc4df74-fcd3-413...|     Inbound|          Returns|Service Centres R...|          No Remarks|2023-08-01 09:01:00|2023-08-01 09:03:00|                    2.0|         Amy Mendez|\n",
      "|c54459b3-ffb3-4ff...|     Inbound|    Order Related|   Installation/demo|          Something |2023-08-01 10:00:00|2023-08-01 10:04:00|                    4.0|       Jennifer May|\n",
      "|deccfb1d-05d4-40b...|     Inbound|     Cancellation|          Not Needed|          No Remarks|2023-08-01 21:05:00|2023-08-01 21:07:00|                    2.0|      Ryan Thompson|\n",
      "|6e51734e-9627-4a1...|     Inbound|    Order Related|   Installation/demo|            All good|2023-08-02 20:03:00|2023-08-02 20:05:00|                    2.0|       David Butler|\n",
      "+--------------------+------------+-----------------+--------------------+--------------------+-------------------+-------------------+-----------------------+-------------------+\n",
      "only showing top 20 rows\n",
      "\n"
     ]
    }
   ],
   "source": [
    "customer_df.show()"
   ]
  },
  {
   "cell_type": "code",
   "execution_count": 17,
   "metadata": {
    "colab": {
     "base_uri": "https://localhost:8080/"
    },
    "executionInfo": {
     "elapsed": 792,
     "status": "ok",
     "timestamp": 1721015691094,
     "user": {
      "displayName": "Yilia Tao",
      "userId": "06222049423707284834"
     },
     "user_tz": -720
    },
    "id": "p5z7VqxQh4mx",
    "outputId": "8db00f18-c681-48b0-8c5f-85acb374b55b"
   },
   "outputs": [
    {
     "name": "stdout",
     "output_type": "stream",
     "text": [
      "(85898, 9)\n"
     ]
    }
   ],
   "source": [
    "num_rows = customer_df.count()\n",
    "num_columns = len(customer_df.columns)\n",
    "shape = (num_rows, num_columns)\n",
    "print(shape)"
   ]
  },
  {
   "cell_type": "code",
   "execution_count": 18,
   "metadata": {
    "colab": {
     "base_uri": "https://localhost:8080/"
    },
    "executionInfo": {
     "elapsed": 457,
     "status": "ok",
     "timestamp": 1721015691549,
     "user": {
      "displayName": "Yilia Tao",
      "userId": "06222049423707284834"
     },
     "user_tz": -720
    },
    "id": "tJy2w7U2iA7V",
    "outputId": "12422831-e839-4142-f9a1-030c03dbdf16"
   },
   "outputs": [
    {
     "name": "stdout",
     "output_type": "stream",
     "text": [
      "(85907, 6)\n"
     ]
    }
   ],
   "source": [
    "num_rows2 = agent_df.count()\n",
    "num_columns2 = len(agent_df.columns)\n",
    "shape2 = (num_rows2, num_columns2)\n",
    "print(shape2)"
   ]
  },
  {
   "cell_type": "code",
   "execution_count": 19,
   "metadata": {
    "colab": {
     "base_uri": "https://localhost:8080/"
    },
    "executionInfo": {
     "elapsed": 2766,
     "status": "ok",
     "timestamp": 1721015694312,
     "user": {
      "displayName": "Yilia Tao",
      "userId": "06222049423707284834"
     },
     "user_tz": -720
    },
    "id": "1avh3L8hgIKG",
    "outputId": "70f85624-dd05-4141-94ee-30b6fbe8cdca"
   },
   "outputs": [
    {
     "name": "stdout",
     "output_type": "stream",
     "text": [
      "+-----------------+---------------------+-------------------+------------------+---------------+------------------+\n",
      "|       Agent_name|Unique_Tenure_Buckets|Unique_Agent_Shifts|Unique_Supervisors|Unique_Managers|Unique_CSAT_Scores|\n",
      "+-----------------+---------------------+-------------------+------------------+---------------+------------------+\n",
      "|      Jenna Rivas|                    1|                  1|                 1|              1|                 4|\n",
      "|   Desiree Torres|                    1|                  1|                 1|              1|                 4|\n",
      "|  Christine Myers|                    1|                  1|                 1|              1|                 5|\n",
      "| Alexandra Harris|                    1|                  1|                 1|              1|                 5|\n",
      "|        John Dean|                    1|                  1|                 1|              1|                 4|\n",
      "|       John Wells|                    1|                  1|                 1|              1|                 5|\n",
      "|     Amanda Sloan|                    1|                  1|                 1|              1|                 5|\n",
      "|   Carla Anderson|                    1|                  1|                 1|              1|                 4|\n",
      "|    Virginia Lane|                    1|                  1|                 1|              1|                 2|\n",
      "|Gregory Davenport|                    1|                  1|                 1|              1|                 4|\n",
      "|    Eric Williams|                    1|                  1|                 1|              1|                 4|\n",
      "|      Gregg Perez|                    1|                  1|                 1|              1|                 5|\n",
      "|     Alyssa Jones|                    1|                  1|                 1|              1|                 5|\n",
      "| Andrea Rasmussen|                    1|                  1|                 1|              1|                 5|\n",
      "|    Donna Gilmore|                    1|                  1|                 1|              1|                 5|\n",
      "|   Jennifer James|                    1|                  1|                 1|              1|                 4|\n",
      "|        Amy Berry|                    1|                  1|                 1|              1|                 5|\n",
      "|    Donna Jenkins|                    1|                  1|                 1|              1|                 5|\n",
      "| Andrea Wilkerson|                    1|                  1|                 1|              1|                 4|\n",
      "|      Bruce Smith|                    1|                  1|                 1|              1|                 5|\n",
      "+-----------------+---------------------+-------------------+------------------+---------------+------------------+\n",
      "only showing top 20 rows\n",
      "\n"
     ]
    }
   ],
   "source": [
    "# 聚合每个代理的Tenure Bucket和Agent Shift的唯一数量\n",
    "tenure_shift_counts = agent_df.groupBy(\"Agent_name\").agg(\n",
    "    F.countDistinct(\"Tenure Bucket\").alias(\"Unique_Tenure_Buckets\"),\n",
    "    F.countDistinct(\"Agent Shift\").alias(\"Unique_Agent_Shifts\"),\n",
    "    F.countDistinct(\"Supervisor\").alias(\"Unique_Supervisors\"),\n",
    "    F.countDistinct(\"Manager\").alias(\"Unique_Managers\"),\n",
    "    F.countDistinct(\"CSAT Score\").alias(\"Unique_CSAT_Scores\")\n",
    ")\n",
    "# 显示结果\n",
    "tenure_shift_counts.show()"
   ]
  },
  {
   "cell_type": "code",
   "execution_count": 20,
   "metadata": {
    "colab": {
     "base_uri": "https://localhost:8080/"
    },
    "executionInfo": {
     "elapsed": 2228,
     "status": "ok",
     "timestamp": 1721015696537,
     "user": {
      "displayName": "Yilia Tao",
      "userId": "06222049423707284834"
     },
     "user_tz": -720
    },
    "id": "NvV7z2GJbPmp",
    "outputId": "2e6e9a4c-de7a-4414-d716-1e1c92122fbc"
   },
   "outputs": [
    {
     "name": "stdout",
     "output_type": "stream",
     "text": [
      "+------------------+------------------+----------------+---------------+---------------+-----------+\n",
      "|        Agent_name|      Average_CSAT|      Supervisor|        Manager|  Tenure_Bucket|Agent_Shift|\n",
      "+------------------+------------------+----------------+---------------+---------------+-----------+\n",
      "|     Aaron Edwards| 4.397849462365591|       Mia Patel|     Emily Chen|          61-90|    Evening|\n",
      "|      Aaron Romero|3.9491525423728815|     Mason Gupta|Jennifer Nguyen|On Job Training|    Morning|\n",
      "|  Abigail Gonzalez|              4.08|      Jacob Sato|Jennifer Nguyen|On Job Training|    Morning|\n",
      "|      Adam Barnett| 4.339285714285714|  Abigail Suzuki|Jennifer Nguyen|On Job Training|    Morning|\n",
      "|      Adam Hammond| 4.733333333333333|   Olivia Suzuki|     John Smith|          31-60|    Morning|\n",
      "|    Adam Henderson|3.8947368421052633|        Ava Wong|    William Kim|On Job Training|    Evening|\n",
      "|    Adam Hernandez| 4.722222222222222|    Nathan Patel|     Emily Chen|           0-30|    Evening|\n",
      "|     Adam Schwartz| 4.077922077922078|Alexander Tanaka|    William Kim|On Job Training|    Evening|\n",
      "|       Adam Torres| 4.481927710843373|       Ethan Tan|    Michael Lee|          31-60|    Evening|\n",
      "|     Adrian Branch|3.9302325581395348|     Carter Park|Jennifer Nguyen|On Job Training|    Morning|\n",
      "|    Adrian Johnson|               4.5|    Nathan Patel|     Emily Chen|            >90|    Evening|\n",
      "|   Adrian Richards| 4.290322580645161|    Zoe Yamamoto|     John Smith|            >90|    Morning|\n",
      "|     Adriana Adams|4.4033613445378155|     Sophia Sato|     John Smith|           0-30|    Morning|\n",
      "|         Alan Cruz|               4.8|   Isabella Wong|     Emily Chen|            >90|    Evening|\n",
      "|       Alan Davies| 4.681818181818182|        Ava Wong|    William Kim|On Job Training|    Evening|\n",
      "|      Alan Sweeney|3.7111111111111112|     Madison Kim|    Michael Lee|          31-60|    Evening|\n",
      "|   Albert Thornton|  4.39344262295082|     Lucas Singh|     John Smith|          61-90|    Evening|\n",
      "|   Alexa Mcpherson|          3.984375|    Brayden Wong|     John Smith|            >90|    Evening|\n",
      "|Alexander Marshall| 4.224719101123595|     Carter Park|    Michael Lee|          31-60|    Morning|\n",
      "|    Alexander Mata| 4.714285714285714|     Mason Gupta|Jennifer Nguyen|On Job Training|    Morning|\n",
      "+------------------+------------------+----------------+---------------+---------------+-----------+\n",
      "only showing top 20 rows\n",
      "\n"
     ]
    }
   ],
   "source": [
    "# data aggregation\n",
    "aggregated_agents = agent_df.groupBy(\"Agent_name\").agg(\n",
    "    F.avg(\"CSAT Score\").alias(\"Average_CSAT\"),\n",
    "    F.first(\"Supervisor\").alias(\"Supervisor\"),\n",
    "    F.first(\"Manager\").alias(\"Manager\"),\n",
    "    F.first(\"Tenure Bucket\").alias(\"Tenure_Bucket\"),\n",
    "    F.first(\"Agent Shift\").alias(\"Agent_Shift\"))\n",
    "aggregated_agents.show()"
   ]
  },
  {
   "cell_type": "code",
   "execution_count": 21,
   "metadata": {
    "colab": {
     "base_uri": "https://localhost:8080/"
    },
    "executionInfo": {
     "elapsed": 3512,
     "status": "ok",
     "timestamp": 1721015700046,
     "user": {
      "displayName": "Yilia Tao",
      "userId": "06222049423707284834"
     },
     "user_tz": -720
    },
    "id": "fim_OrhVhCpY",
    "outputId": "56e6f3de-d700-47ad-d85d-8bd93b0ec5f0"
   },
   "outputs": [
    {
     "name": "stdout",
     "output_type": "stream",
     "text": [
      "+-------------------+--------------------+------------+-----------------+--------------------+--------------------+-------------------+-------------------+-----------------------+------------------+--------------+---------------+---------------+-----------+\n",
      "|         Agent_name|           Unique id|channel_name|         category|        Sub-category|    Customer Remarks|  Issue_reported at|    issue_responded|connected_handling_time|      Average_CSAT|    Supervisor|        Manager|  Tenure_Bucket|Agent_Shift|\n",
      "+-------------------+--------------------+------------+-----------------+--------------------+--------------------+-------------------+-------------------+-----------------------+------------------+--------------+---------------+---------------+-----------+\n",
      "|   Richard Buchanan|7e9ae164-6a8b-452...|     Outcall|  Product Queries|      Life Insurance|          No Remarks|2023-08-01 11:13:00|2023-08-01 11:47:00|                   34.0| 4.285714285714286|   Mason Gupta|Jennifer Nguyen|On Job Training|    Morning|\n",
      "|      Vicki Collins|b07ec1b0-f376-43b...|     Outcall|  Product Queries|Product Specific ...|          No Remarks|2023-08-01 12:52:00|2023-08-01 12:54:00|                    2.0|           4.59375|     Dylan Kim|    Michael Lee|            >90|    Morning|\n",
      "|       Duane Norman|200814dd-27c7-414...|     Inbound|    Order Related|   Installation/demo|          No Remarks|2023-08-01 20:16:00|2023-08-01 20:38:00|                   22.0| 4.514285714285714|  Jackson Park|    William Kim|On Job Training|    Evening|\n",
      "|     Patrick Flores|eb0d3e53-c1ca-42d...|     Inbound|          Returns|Reverse Pickup En...|          No Remarks|2023-08-01 20:56:00|2023-08-01 21:16:00|                   20.0|3.9791666666666665|   Olivia Wang|     John Smith|            >90|    Evening|\n",
      "|Christopher Sanchez|ba903143-1e54-406...|     Inbound|     Cancellation|          Not Needed|          No Remarks|2023-08-01 10:30:00|2023-08-01 10:32:00|                    2.0| 4.032258064516129|Austin Johnson|    Michael Lee|           0-30|    Morning|\n",
      "|     Desiree Newton|1cfde5b9-6112-44f...|       Email|          Returns|     Fraudulent User|          No Remarks|2023-08-01 15:13:00|2023-08-01 18:39:00|                  206.0| 4.061224489795919|     Emma Park|     John Smith|           0-30|    Morning|\n",
      "|      Shannon Hicks|11a3ffd8-1d6b-480...|     Outcall|  Product Queries|Product Specific ...|          No Remarks|2023-08-01 15:31:00|2023-08-01 23:52:00|                  501.0|  4.21978021978022|   Aiden Patel|     Olivia Tan|            >90|    Morning|\n",
      "|        Laura Smith|372b51a5-fa19-4a3...|     Inbound|          Returns|Exchange / Replac...|           Very good|2023-08-01 16:17:00|2023-08-01 16:23:00|                    6.0| 4.204081632653061| Evelyn Kimura|Jennifer Nguyen|On Job Training|    Evening|\n",
      "|        David Smith|6e4413db-4e16-42f...|     Inbound|          Returns|             Missing|Shopzilla app and...|2023-08-01 21:03:00|2023-08-01 21:07:00|                    4.0| 4.632575757575758|  Nathan Patel|     John Smith|            >90|      Split|\n",
      "|      Tabitha Ayala|b0a65350-64a5-460...|     Inbound|Shopzilla Related|     General Enquiry|          No Remarks|2023-08-01 23:31:00|2023-08-01 23:36:00|                    5.0| 4.266666666666667| Amelia Tanaka|    Michael Lee|          31-60|    Evening|\n",
      "|       Carla Morgan|74a2cbbf-497e-417...|     Outcall|          Returns|      Return request|          No Remarks|2023-08-02 18:14:00|2023-08-02 18:16:00|                    2.0| 4.352941176470588|  Nathan Patel|     Emily Chen|           0-30|    Evening|\n",
      "|      Stanley Hogan|4c28acf4-2ea4-4be...|     Inbound|    Order Related|             Delayed|            Very bad|2023-08-02 10:44:00|2023-08-02 11:14:00|                   30.0|             3.625|   Harper Wong|     Emily Chen|            >90|      Split|\n",
      "|      Timothy Scott|e7ec72bb-65e9-446...|     Inbound|Shopzilla Related|     General Enquiry|          No Remarks|2023-08-01 10:09:00|2023-08-01 10:12:00|                    3.0| 4.078947368421052|  Zoe Yamamoto|    William Kim|On Job Training|    Morning|\n",
      "|      Shannon Hicks|68c596f2-4130-42f...|     Inbound|Shopzilla Related|     General Enquiry|          No Remarks|2023-08-01 10:15:00|2023-08-01 11:21:00|                   66.0|  4.21978021978022|   Aiden Patel|     Olivia Tan|            >90|    Morning|\n",
      "|        Mark Wilson|6b966653-0900-4d5...|     Inbound|          Returns|Reverse Pickup En...|          No Remarks|2023-08-02 11:26:00|2023-08-02 11:44:00|                   18.0|4.2298850574712645| Scarlett Chen|     John Smith|           0-30|    Morning|\n",
      "|         Mark Black|130dfefe-1d77-47f...|     Inbound|          Returns|             Missing|          No Remarks|2023-08-02 19:56:00|2023-08-02 20:06:00|                   10.0| 4.505376344086022|   Sophia Sato|     John Smith|            >90|  Afternoon|\n",
      "|         Amy Mendez|4cc4df74-fcd3-413...|     Inbound|          Returns|Service Centres R...|          No Remarks|2023-08-01 09:01:00|2023-08-01 09:03:00|                    2.0| 3.826923076923077|   Sophia Sato|     John Smith|           0-30|    Morning|\n",
      "|       Jennifer May|c54459b3-ffb3-4ff...|     Inbound|    Order Related|   Installation/demo|          Something |2023-08-01 10:00:00|2023-08-01 10:04:00|                    4.0| 4.181818181818182|  Zoe Yamamoto|    William Kim|On Job Training|    Morning|\n",
      "|      Ryan Thompson|deccfb1d-05d4-40b...|     Inbound|     Cancellation|          Not Needed|          No Remarks|2023-08-01 21:05:00|2023-08-01 21:07:00|                    2.0|  4.62874251497006|   Olivia Wang|     Emily Chen|          31-60|    Evening|\n",
      "|       David Butler|6e51734e-9627-4a1...|     Inbound|    Order Related|   Installation/demo|            All good|2023-08-02 20:03:00|2023-08-02 20:05:00|                    2.0| 4.470588235294118|   Olivia Wang|     Emily Chen|          31-60|    Evening|\n",
      "+-------------------+--------------------+------------+-----------------+--------------------+--------------------+-------------------+-------------------+-----------------------+------------------+--------------+---------------+---------------+-----------+\n",
      "only showing top 20 rows\n",
      "\n"
     ]
    }
   ],
   "source": [
    "merged_df = customer_df.join(aggregated_agents, on=\"Agent_name\", how=\"left\")\n",
    "merged_df.show()"
   ]
  },
  {
   "cell_type": "code",
   "execution_count": 22,
   "metadata": {
    "colab": {
     "base_uri": "https://localhost:8080/"
    },
    "executionInfo": {
     "elapsed": 1183,
     "status": "ok",
     "timestamp": 1721015701226,
     "user": {
      "displayName": "Yilia Tao",
      "userId": "06222049423707284834"
     },
     "user_tz": -720
    },
    "id": "h0fFCCn4jet-",
    "outputId": "e68f7000-e910-493a-dd4f-cdc936a69251"
   },
   "outputs": [
    {
     "name": "stdout",
     "output_type": "stream",
     "text": [
      "(85898, 14)\n"
     ]
    }
   ],
   "source": [
    "rows = merged_df.count()\n",
    "columns = len(merged_df.columns)\n",
    "shape_merged = (rows, columns)\n",
    "print(shape_merged)"
   ]
  },
  {
   "cell_type": "code",
   "execution_count": 23,
   "metadata": {
    "colab": {
     "base_uri": "https://localhost:8080/"
    },
    "executionInfo": {
     "elapsed": 5092,
     "status": "ok",
     "timestamp": 1721015706315,
     "user": {
      "displayName": "Yilia Tao",
      "userId": "06222049423707284834"
     },
     "user_tz": -720
    },
    "id": "iiG-MFoykflS",
    "outputId": "226337ba-686c-47fd-dba6-3e933be3ae0f"
   },
   "outputs": [
    {
     "name": "stdout",
     "output_type": "stream",
     "text": [
      "Combined data saved to merged_data.csv\n"
     ]
    }
   ],
   "source": [
    "# Save the combined DataFrame to a new CSV file\n",
    "merged_df.write.csv(\"merged_data.csv\", header=True, mode=\"overwrite\")\n",
    "print(f\"Combined data saved to merged_data.csv\")"
   ]
  },
  {
   "cell_type": "code",
   "execution_count": 24,
   "metadata": {
    "executionInfo": {
     "elapsed": 371,
     "status": "ok",
     "timestamp": 1721015709929,
     "user": {
      "displayName": "Yilia Tao",
      "userId": "06222049423707284834"
     },
     "user_tz": -720
    },
    "id": "XFA_UDzVha3v"
   },
   "outputs": [],
   "source": [
    "# Stop Spark session\n",
    "spark.stop()"
   ]
  }
 ],
 "metadata": {
  "colab": {
   "authorship_tag": "ABX9TyNAgYWC/gXofFFx+cJl06ZC",
   "provenance": []
  },
  "kernelspec": {
   "display_name": "Python 3 (ipykernel)",
   "language": "python",
   "name": "python3"
  },
  "language_info": {
   "codemirror_mode": {
    "name": "ipython",
    "version": 3
   },
   "file_extension": ".py",
   "mimetype": "text/x-python",
   "name": "python",
   "nbconvert_exporter": "python",
   "pygments_lexer": "ipython3",
   "version": "3.12.2"
  }
 },
 "nbformat": 4,
 "nbformat_minor": 4
}
